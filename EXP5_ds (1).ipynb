{
 "cells": [
  {
   "cell_type": "code",
   "execution_count": 11,
   "id": "6ebcb3df-7833-476b-9553-c4466648f28e",
   "metadata": {},
   "outputs": [],
   "source": [
    "from numpy import *"
   ]
  },
  {
   "cell_type": "code",
   "execution_count": 51,
   "id": "03d3f98b-22e7-4aca-9842-f9547745953a",
   "metadata": {},
   "outputs": [],
   "source": [
    "arr=array([1,-49,9,-4,25,36])\n",
    "arr2 = array([5,6,9,7,8,4])"
   ]
  },
  {
   "cell_type": "code",
   "execution_count": 53,
   "id": "7710de2e-e924-4dca-ac4c-247e2f35959e",
   "metadata": {},
   "outputs": [
    {
     "name": "stdout",
     "output_type": "stream",
     "text": [
      "Absolute values of array elements[ 1 49  9  4 25 36]\n"
     ]
    }
   ],
   "source": [
    "print(f\"Absolute values of array elements{abs(arr)}\")"
   ]
  },
  {
   "cell_type": "code",
   "execution_count": 55,
   "id": "7c33eb5c-5eb2-4355-9dc8-edfdc8d2c334",
   "metadata": {},
   "outputs": [
    {
     "name": "stdout",
     "output_type": "stream",
     "text": [
      "Exponent of array elements:[2.71828183e+00 5.24288566e-22 8.10308393e+03 1.83156389e-02\n",
      " 7.20048993e+10 4.31123155e+15]\n"
     ]
    }
   ],
   "source": [
    "print(f\"Exponent of array elements:{exp(arr)}\")"
   ]
  },
  {
   "cell_type": "code",
   "execution_count": 57,
   "id": "3a4476fe-2da9-42ec-aaf9-16abf6ff59f6",
   "metadata": {},
   "outputs": [
    {
     "name": "stdout",
     "output_type": "stream",
     "text": [
      "Exponent of array elements:[ 0.84147098  0.95375265  0.41211849  0.7568025  -0.13235175 -0.99177885]\n"
     ]
    }
   ],
   "source": [
    "print(f\"Exponent of array elements:{sin(arr)}\")"
   ]
  },
  {
   "cell_type": "code",
   "execution_count": 59,
   "id": "c7efac81-fea0-4cd8-9742-2daa38b46109",
   "metadata": {},
   "outputs": [
    {
     "name": "stdout",
     "output_type": "stream",
     "text": [
      "Exponent of array elements:[ 0.54030231  0.30059254 -0.91113026 -0.65364362  0.99120281 -0.12796369]\n"
     ]
    }
   ],
   "source": [
    "print(f\"Exponent of array elements:{cos(arr)}\")"
   ]
  },
  {
   "cell_type": "code",
   "execution_count": 61,
   "id": "3b27a272-5e50-4e02-bf71-6bf88c7ad4db",
   "metadata": {},
   "outputs": [
    {
     "name": "stdout",
     "output_type": "stream",
     "text": [
      "Exponent of array elements:[ 1.55740772  3.17290855 -0.45231566 -1.15782128 -0.13352641  7.75047091]\n"
     ]
    }
   ],
   "source": [
    "print(f\"Exponent of array elements:{tan(arr)}\")"
   ]
  },
  {
   "cell_type": "code",
   "execution_count": 63,
   "id": "df948f8a-2adb-45a3-84d6-16cefd2a5c43",
   "metadata": {},
   "outputs": [
    {
     "name": "stdout",
     "output_type": "stream",
     "text": [
      "Exponent of array elements:[ 1. nan  3. nan  5.  6.]\n"
     ]
    },
    {
     "name": "stderr",
     "output_type": "stream",
     "text": [
      "C:\\Users\\bhagyashree\\AppData\\Local\\Temp\\ipykernel_11252\\2452060316.py:1: RuntimeWarning: invalid value encountered in sqrt\n",
      "  print(f\"Exponent of array elements:{sqrt(arr)}\")\n"
     ]
    }
   ],
   "source": [
    "print(f\"Exponent of array elements:{sqrt(arr)}\")"
   ]
  },
  {
   "cell_type": "code",
   "execution_count": 65,
   "id": "993b1824-fa07-46bf-ab5a-1f6b76fa996a",
   "metadata": {},
   "outputs": [
    {
     "name": "stdout",
     "output_type": "stream",
     "text": [
      "Exponent of array elements:[   1 2401   81   16  625 1296]\n"
     ]
    }
   ],
   "source": [
    "print(f\"Exponent of array elements:{square(arr)}\")"
   ]
  },
  {
   "cell_type": "code",
   "execution_count": 69,
   "id": "971dcb93-07b9-417b-9529-f4fca0b699a0",
   "metadata": {},
   "outputs": [
    {
     "name": "stdout",
     "output_type": "stream",
     "text": [
      "bitwise anding of array elements:[1 6 9 4 8 4]\n"
     ]
    }
   ],
   "source": [
    "print(f\"bitwise anding of array elements:{bitwise_and(arr,arr2)}\")"
   ]
  },
  {
   "cell_type": "code",
   "execution_count": 73,
   "id": "33a6a0da-5016-4fde-a12a-cfe94543c3e6",
   "metadata": {},
   "outputs": [
    {
     "name": "stdout",
     "output_type": "stream",
     "text": [
      "bitwise oring of array elements:[  5 -49   9  -1  25  36]\n"
     ]
    }
   ],
   "source": [
    "print(f\"bitwise oring of array elements:{bitwise_or(arr,arr2)}\")"
   ]
  },
  {
   "cell_type": "code",
   "execution_count": 75,
   "id": "9d139a8a-0824-47a4-9c0c-e437c125b7d5",
   "metadata": {},
   "outputs": [
    {
     "name": "stdout",
     "output_type": "stream",
     "text": [
      "left shift of array elements:[   32 -3136  4608  -512  6400   576]\n"
     ]
    }
   ],
   "source": [
    "print(f\"left shift of array elements:{left_shift(arr,arr2)}\")"
   ]
  },
  {
   "cell_type": "code",
   "execution_count": 77,
   "id": "ff2a93e3-966a-4d9f-889e-c24b9b1507cf",
   "metadata": {},
   "outputs": [
    {
     "name": "stdout",
     "output_type": "stream",
     "text": [
      "right shift of array elements:[ 0 -1  0 -1  0  2]\n"
     ]
    }
   ],
   "source": [
    "print(f\"right shift of array elements:{right_shift(arr,arr2)}\")"
   ]
  },
  {
   "cell_type": "code",
   "execution_count": 81,
   "id": "998fd279-2e47-4ce6-841c-f85815c63cab",
   "metadata": {},
   "outputs": [
    {
     "name": "stdout",
     "output_type": "stream",
     "text": [
      "invert of array elements:[ -2  48 -10   3 -26 -37]\n"
     ]
    }
   ],
   "source": [
    "print(f\"invert of array elements:{invert(arr)}\")"
   ]
  },
  {
   "cell_type": "code",
   "execution_count": null,
   "id": "0ba97657-92a3-41e1-9567-5b209540665b",
   "metadata": {},
   "outputs": [],
   "source": []
  }
 ],
 "metadata": {
  "kernelspec": {
   "display_name": "Python 3 (ipykernel)",
   "language": "python",
   "name": "python3"
  },
  "language_info": {
   "codemirror_mode": {
    "name": "ipython",
    "version": 3
   },
   "file_extension": ".py",
   "mimetype": "text/x-python",
   "name": "python",
   "nbconvert_exporter": "python",
   "pygments_lexer": "ipython3",
   "version": "3.12.4"
  }
 },
 "nbformat": 4,
 "nbformat_minor": 5
}
