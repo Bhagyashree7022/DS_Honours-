{
 "cells": [
  {
   "cell_type": "code",
   "execution_count": 55,
   "id": "4ea76134-1abe-4e80-b722-e2d8c99a7fa3",
   "metadata": {},
   "outputs": [],
   "source": [
    "from numpy import *;"
   ]
  },
  {
   "cell_type": "code",
   "execution_count": 57,
   "id": "c74a603b-dacd-49eb-a344-3c7db4b014cb",
   "metadata": {},
   "outputs": [
    {
     "name": "stdout",
     "output_type": "stream",
     "text": [
      "[[1 2 3]\n",
      " [5 6 7]]\n"
     ]
    }
   ],
   "source": [
    "mat1=array([[1,2,3],[5,6,7]])\n",
    "print(mat1)"
   ]
  },
  {
   "cell_type": "code",
   "execution_count": 83,
   "id": "e00726f0-711c-44a6-ad1f-b2f607b982f8",
   "metadata": {},
   "outputs": [
    {
     "name": "stdout",
     "output_type": "stream",
     "text": [
      "2\n"
     ]
    }
   ],
   "source": [
    "print(mat1[0,1])"
   ]
  },
  {
   "cell_type": "code",
   "execution_count": null,
   "id": "6507f0ac-cb42-494b-aae4-37c5748f5a54",
   "metadata": {},
   "outputs": [],
   "source": [
    "mat1[1,2]=88\n",
    "print(mat1[1,2])"
   ]
  },
  {
   "cell_type": "code",
   "execution_count": 61,
   "id": "571c3708-24fa-4bbe-9871-f07a14ede942",
   "metadata": {},
   "outputs": [
    {
     "name": "stdout",
     "output_type": "stream",
     "text": [
      "int32\n"
     ]
    }
   ],
   "source": [
    "print(mat1.dtype)"
   ]
  },
  {
   "cell_type": "code",
   "execution_count": 63,
   "id": "b7e88cc3-8f37-4683-a54a-3ab0a9d4dcd9",
   "metadata": {},
   "outputs": [
    {
     "name": "stdout",
     "output_type": "stream",
     "text": [
      "2\n"
     ]
    }
   ],
   "source": [
    "print(mat1.ndim)"
   ]
  },
  {
   "cell_type": "code",
   "execution_count": 65,
   "id": "bb18ec75-4248-4a2c-8883-3dbe9423fca2",
   "metadata": {},
   "outputs": [
    {
     "name": "stdout",
     "output_type": "stream",
     "text": [
      "6\n"
     ]
    }
   ],
   "source": [
    "print(mat1.size)"
   ]
  },
  {
   "cell_type": "code",
   "execution_count": 67,
   "id": "d10f60c4-b7bb-47ab-b0c5-c779655587bc",
   "metadata": {},
   "outputs": [
    {
     "name": "stdout",
     "output_type": "stream",
     "text": [
      "(2, 3)\n"
     ]
    }
   ],
   "source": [
    "print(mat1.shape)"
   ]
  },
  {
   "cell_type": "code",
   "execution_count": 125,
   "id": "94d06603-a6c8-4912-8a2f-d89ba355db3a",
   "metadata": {},
   "outputs": [
    {
     "name": "stdout",
     "output_type": "stream",
     "text": [
      "mean of array 17.5\n"
     ]
    }
   ],
   "source": [
    "print(f\"mean of array {mat1.mean()}\")"
   ]
  },
  {
   "cell_type": "code",
   "execution_count": 101,
   "id": "2dd87c85-86a7-4e35-a998-cc6901a4c43f",
   "metadata": {},
   "outputs": [
    {
     "name": "stdout",
     "output_type": "stream",
     "text": [
      "mean of rows[ 3.   4.  45.5]\n"
     ]
    }
   ],
   "source": [
    "print(f\"mean of rows{mat1.mean(axis=0)}\")"
   ]
  },
  {
   "cell_type": "code",
   "execution_count": 103,
   "id": "44b7dc37-095a-4d7b-8674-5b9878105b18",
   "metadata": {},
   "outputs": [
    {
     "name": "stdout",
     "output_type": "stream",
     "text": [
      "mean of columns[ 2. 33.]\n"
     ]
    }
   ],
   "source": [
    "print(f\"mean of columns{mat1.mean(axis=1)}\")"
   ]
  },
  {
   "cell_type": "code",
   "execution_count": 129,
   "id": "0ccba81f-66df-4099-85c6-90cd02a306fa",
   "metadata": {},
   "outputs": [
    {
     "name": "stdout",
     "output_type": "stream",
     "text": [
      "sum of array elements 105\n"
     ]
    }
   ],
   "source": [
    "print(f\"sum of array elements {mat1.sum()}\")"
   ]
  },
  {
   "cell_type": "code",
   "execution_count": 115,
   "id": "a30f016f-72fb-4c89-89b9-8a77f04b3437",
   "metadata": {},
   "outputs": [
    {
     "name": "stdout",
     "output_type": "stream",
     "text": [
      "msum of columns[ 6 99]\n"
     ]
    }
   ],
   "source": [
    "print(f\"sum of columns{mat1.sum(axis=1)}\")"
   ]
  },
  {
   "cell_type": "code",
   "execution_count": 105,
   "id": "250317cf-b360-4f3e-94b2-7e341eb0d395",
   "metadata": {},
   "outputs": [
    {
     "name": "stdout",
     "output_type": "stream",
     "text": [
      "msum of rows[ 6  8 91]\n"
     ]
    }
   ],
   "source": [
    "print(f\"sum of rows{mat1.sum(axis=0)}\")"
   ]
  },
  {
   "cell_type": "code",
   "execution_count": 133,
   "id": "d4117c90-e0d4-4cfa-ab4d-135b86b24b80",
   "metadata": {},
   "outputs": [
    {
     "name": "stdout",
     "output_type": "stream",
     "text": [
      "maximum element ofarray 88\n"
     ]
    }
   ],
   "source": [
    "print(f\"maximum element ofarray {mat1.max()}\")"
   ]
  },
  {
   "cell_type": "code",
   "execution_count": 117,
   "id": "ecd44d95-f85a-4387-947d-fd270f92cef8",
   "metadata": {},
   "outputs": [
    {
     "name": "stdout",
     "output_type": "stream",
     "text": [
      "maximum element ofcolumns[ 3 88]\n"
     ]
    }
   ],
   "source": [
    "print(f\"maximum element ofcolumns{mat1.max(axis=1)}\")"
   ]
  },
  {
   "cell_type": "code",
   "execution_count": 121,
   "id": "50c0f827-ca13-4a2e-84b2-2c2b47a64aac",
   "metadata": {},
   "outputs": [
    {
     "name": "stdout",
     "output_type": "stream",
     "text": [
      "maximum element of rows[ 5  6 88]\n"
     ]
    }
   ],
   "source": [
    "print(f\"maximum element of rows{mat1.max(axis=0)}\")"
   ]
  },
  {
   "cell_type": "code",
   "execution_count": 135,
   "id": "8ba83dd7-e679-4fba-a984-918265d4199a",
   "metadata": {},
   "outputs": [
    {
     "name": "stdout",
     "output_type": "stream",
     "text": [
      "miniimum element ofarray 1\n"
     ]
    }
   ],
   "source": [
    "print(f\"miniimum element ofarray {mat1.min()}\")"
   ]
  },
  {
   "cell_type": "code",
   "execution_count": 111,
   "id": "4c3f5642-8306-4e34-955a-960d355685e4",
   "metadata": {},
   "outputs": [
    {
     "name": "stdout",
     "output_type": "stream",
     "text": [
      "minimum element of rows[1 2 3]\n"
     ]
    }
   ],
   "source": [
    "print(f\"minimum element of rows{mat1.min(axis=0)}\")"
   ]
  },
  {
   "cell_type": "code",
   "execution_count": null,
   "id": "db7dd310-d385-4b91-a8c0-ae33513bbf80",
   "metadata": {},
   "outputs": [],
   "source": [
    "print(f\"maximum element of rows{mat1.max(axis=1)}\")"
   ]
  },
  {
   "cell_type": "code",
   "execution_count": 71,
   "id": "9af619c0-c769-44ad-93c6-86bca342db7e",
   "metadata": {},
   "outputs": [
    {
     "name": "stdout",
     "output_type": "stream",
     "text": [
      "(3, 2)\n",
      "2\n"
     ]
    }
   ],
   "source": [
    "print(mat3.shape)\n",
    "print(mat3.ndim)"
   ]
  },
  {
   "cell_type": "code",
   "execution_count": 75,
   "id": "3ddbc7fe-c6ff-4ca1-8568-7d2589914cce",
   "metadata": {},
   "outputs": [
    {
     "name": "stdout",
     "output_type": "stream",
     "text": [
      "[1 2 3 5 6 7]\n"
     ]
    }
   ],
   "source": [
    "arr=mat1.flatten()\n",
    "print(arr)"
   ]
  },
  {
   "cell_type": "code",
   "execution_count": null,
   "id": "42aabe96-9a8e-4f3d-9fc6-effe4d417934",
   "metadata": {},
   "outputs": [],
   "source": [
    "mat3 = mat1.reshape(3,2)\n",
    "print(mat3)"
   ]
  }
 ],
 "metadata": {
  "kernelspec": {
   "display_name": "Python 3 (ipykernel)",
   "language": "python",
   "name": "python3"
  },
  "language_info": {
   "codemirror_mode": {
    "name": "ipython",
    "version": 3
   },
   "file_extension": ".py",
   "mimetype": "text/x-python",
   "name": "python",
   "nbconvert_exporter": "python",
   "pygments_lexer": "ipython3",
   "version": "3.12.4"
  }
 },
 "nbformat": 4,
 "nbformat_minor": 5
}
