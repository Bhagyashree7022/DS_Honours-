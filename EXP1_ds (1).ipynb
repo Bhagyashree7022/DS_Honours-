{
 "cells": [
  {
   "cell_type": "code",
   "execution_count": 1,
   "id": "849dd3d4-21b2-402f-bb87-7e636ebf8e26",
   "metadata": {},
   "outputs": [],
   "source": [
    "from array import *;"
   ]
  },
  {
   "cell_type": "code",
   "execution_count": 15,
   "id": "2cb18b21-fd52-46c7-ba86-52afccbfb095",
   "metadata": {},
   "outputs": [
    {
     "name": "stdin",
     "output_type": "stream",
     "text": [
      "Enter aray size 5\n",
      "Enter values 1\n",
      "Enter values 2\n",
      "Enter values 3\n",
      "Enter values 4\n",
      "Enter values 5\n"
     ]
    },
    {
     "name": "stdout",
     "output_type": "stream",
     "text": [
      "array('i', [1, 2, 3, 4, 5])\n"
     ]
    }
   ],
   "source": [
    "s=int(input(\"Enter aray size\"))\n",
    "arr=array('i',[])\n",
    "for i in range(s):\n",
    "    x=int(input(\"Enter values\"))\n",
    "    arr.append(x)\n",
    "print(arr)"
   ]
  },
  {
   "cell_type": "code",
   "execution_count": 17,
   "id": "303f1f19-5968-4c7e-9312-d561c4cb2f44",
   "metadata": {},
   "outputs": [
    {
     "name": "stdout",
     "output_type": "stream",
     "text": [
      "5\n"
     ]
    }
   ],
   "source": [
    "l=len(arr)\n",
    "print(l)"
   ]
  },
  {
   "cell_type": "code",
   "execution_count": 66,
   "id": "fbca1c81-3eb0-45f1-ba1a-c9b4d0cf3369",
   "metadata": {},
   "outputs": [
    {
     "name": "stdin",
     "output_type": "stream",
     "text": [
      "Enter no. you want to search 4\n"
     ]
    },
    {
     "name": "stdout",
     "output_type": "stream",
     "text": [
      "3\n",
      "3\n",
      "i\n"
     ]
    }
   ],
   "source": [
    "val=int(input(\"Enter no. you want to search\"))\n",
    "k=0;\n",
    "for i in arr:\n",
    "  if(i==val):\n",
    "   print(k)\n",
    "  k+=1\n",
    "\n",
    "print(arr.index(val));\n",
    "print(arr.typecode)"
   ]
  },
  {
   "cell_type": "code",
   "execution_count": 92,
   "id": "ecacc0e7-5bc3-4f1b-86d6-7b025d708e65",
   "metadata": {},
   "outputs": [
    {
     "name": "stdout",
     "output_type": "stream",
     "text": [
      "array('u', 'aeiou')\n",
      "values of array vals\n",
      "a\n",
      "e\n",
      "i\n",
      "o\n",
      "u\n",
      "array('u', 'aeiouk')\n"
     ]
    }
   ],
   "source": [
    "vals=array('u',['a','e','i','o','u'])\n",
    "print(vals)\n",
    "print(\"values of array vals\")\n",
    "i=0;\n",
    "for i in vals:\n",
    "  print(i)\n",
    "vals.append('k')\n",
    "print(vals)"
   ]
  },
  {
   "cell_type": "code",
   "execution_count": 102,
   "id": "e8295a5b-b2b1-4c3c-b3b3-6fce4199c076",
   "metadata": {},
   "outputs": [
    {
     "name": "stdout",
     "output_type": "stream",
     "text": [
      "array('u', 'aeiouk')\n"
     ]
    }
   ],
   "source": [
    "vals.reverse()\n",
    "print(vals)"
   ]
  },
  {
   "cell_type": "code",
   "execution_count": 140,
   "id": "dec8fb97-75e9-4bfb-861d-5bc5de641f16",
   "metadata": {},
   "outputs": [
    {
     "name": "stdout",
     "output_type": "stream",
     "text": [
      "array('u', 'aeiouk')\n",
      "0\n",
      "array('u', 'e')\n",
      "array('u', 'eiouk')\n",
      "array('u', 'ae')\n",
      "k\n",
      "e\n",
      "array('u', 'kuoiea')\n"
     ]
    }
   ],
   "source": [
    "arr=array(vals.typecode,(a for a in vals))\n",
    "print(arr)\n",
    "print(arr.index('a'))\n",
    "print(vals[1:2])\n",
    "print(vals[1:])\n",
    "print(vals[:2])\n",
    "print(vals[-1])\n",
    "print(vals[-5])\n",
    "print(vals[::-1])"
   ]
  },
  {
   "cell_type": "code",
   "execution_count": null,
   "id": "1c318d09-260c-4687-9253-7ee1e435d9e4",
   "metadata": {},
   "outputs": [],
   "source": []
  }
 ],
 "metadata": {
  "kernelspec": {
   "display_name": "Python 3 (ipykernel)",
   "language": "python",
   "name": "python3"
  },
  "language_info": {
   "codemirror_mode": {
    "name": "ipython",
    "version": 3
   },
   "file_extension": ".py",
   "mimetype": "text/x-python",
   "name": "python",
   "nbconvert_exporter": "python",
   "pygments_lexer": "ipython3",
   "version": "3.12.4"
  }
 },
 "nbformat": 4,
 "nbformat_minor": 5
}
