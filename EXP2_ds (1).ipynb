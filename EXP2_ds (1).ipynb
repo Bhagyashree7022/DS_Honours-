{
 "cells": [
  {
   "cell_type": "code",
   "execution_count": 3,
   "id": "4ba034bc-10c5-4240-b0f2-6c8023bb27f3",
   "metadata": {},
   "outputs": [],
   "source": [
    "from numpy import *"
   ]
  },
  {
   "cell_type": "code",
   "execution_count": 21,
   "id": "be1df129-0512-47ba-92fc-7de493a0303a",
   "metadata": {},
   "outputs": [
    {
     "name": "stdout",
     "output_type": "stream",
     "text": [
      "[ 1  2 70  4 58]\n"
     ]
    }
   ],
   "source": [
    "arr=array([1,2,70,4,58])\n",
    "print(arr)"
   ]
  },
  {
   "cell_type": "code",
   "execution_count": 23,
   "id": "d0a7090b-edff-41f7-8129-765d411c37c0",
   "metadata": {},
   "outputs": [
    {
     "name": "stdout",
     "output_type": "stream",
     "text": [
      "5 th element of array\n",
      "58\n",
      "4 th element of array\n",
      "4\n"
     ]
    }
   ],
   "source": [
    "print(\"5 th element of array\")\n",
    "print(arr[4])\n",
    "print(\"4 th element of array\")\n",
    "print(arr[3])"
   ]
  },
  {
   "cell_type": "code",
   "execution_count": 25,
   "id": "597d6ed2-8ad9-42c0-9a92-cf84c1b8ae40",
   "metadata": {},
   "outputs": [
    {
     "name": "stdout",
     "output_type": "stream",
     "text": [
      "4 th element of array\n",
      "88\n"
     ]
    }
   ],
   "source": [
    "arr[3] = 88\n",
    "print(\"4 th element of array\")\n",
    "print(arr[3])"
   ]
  },
  {
   "cell_type": "code",
   "execution_count": 27,
   "id": "b56e3f29-3144-4277-b2c2-06aec74e4b9f",
   "metadata": {},
   "outputs": [
    {
     "name": "stdout",
     "output_type": "stream",
     "text": [
      "58\n"
     ]
    }
   ],
   "source": [
    "print(arr[-1])"
   ]
  },
  {
   "cell_type": "code",
   "execution_count": null,
   "id": "c8ddf03d-4e20-47dc-82f9-a2a7bd15d76d",
   "metadata": {},
   "outputs": [],
   "source": []
  }
 ],
 "metadata": {
  "kernelspec": {
   "display_name": "Python 3 (ipykernel)",
   "language": "python",
   "name": "python3"
  },
  "language_info": {
   "codemirror_mode": {
    "name": "ipython",
    "version": 3
   },
   "file_extension": ".py",
   "mimetype": "text/x-python",
   "name": "python",
   "nbconvert_exporter": "python",
   "pygments_lexer": "ipython3",
   "version": "3.12.4"
  }
 },
 "nbformat": 4,
 "nbformat_minor": 5
}
