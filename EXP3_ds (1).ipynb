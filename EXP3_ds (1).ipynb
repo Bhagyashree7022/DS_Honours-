{
 "cells": [
  {
   "cell_type": "code",
   "execution_count": 1,
   "id": "6d208365-1626-46b1-a810-4f23a79512c9",
   "metadata": {},
   "outputs": [],
   "source": [
    "from numpy import *"
   ]
  },
  {
   "cell_type": "code",
   "execution_count": 35,
   "id": "860c11e0-53d0-43cd-8ec7-8e6c3ad60da3",
   "metadata": {},
   "outputs": [
    {
     "name": "stdout",
     "output_type": "stream",
     "text": [
      "[8 5 9 4 2]\n"
     ]
    }
   ],
   "source": [
    "val=array([8,5,9,4,2])\n",
    "print(val)"
   ]
  },
  {
   "cell_type": "code",
   "execution_count": 37,
   "id": "668c1bd0-763d-4daf-8b47-d55c40d099f3",
   "metadata": {},
   "outputs": [],
   "source": [
    "temp=array([31.5,30.5,75.2])"
   ]
  },
  {
   "cell_type": "code",
   "execution_count": 39,
   "id": "cc4a051d-7706-4860-b6b6-94bff675fc0d",
   "metadata": {},
   "outputs": [
    {
     "name": "stdout",
     "output_type": "stream",
     "text": [
      "maximum temperatue\n",
      "75.2\n"
     ]
    }
   ],
   "source": [
    "print(\"maximum temperatue\")\n",
    "print(temp.max())"
   ]
  },
  {
   "cell_type": "code",
   "execution_count": 41,
   "id": "5f25b353-1d4f-474f-9a8c-2a2cd8c343f2",
   "metadata": {},
   "outputs": [
    {
     "name": "stdout",
     "output_type": "stream",
     "text": [
      "minimum temperatue\n",
      "45.73333333333333\n"
     ]
    }
   ],
   "source": [
    "print(\"minimum temperatue\")\n",
    "print(temp.mean())"
   ]
  },
  {
   "cell_type": "code",
   "execution_count": 43,
   "id": "4fce27ee-c11a-40e3-9c4d-d276e226c798",
   "metadata": {},
   "outputs": [
    {
     "name": "stdout",
     "output_type": "stream",
     "text": [
      "sum of temperatue\n",
      "137.2\n"
     ]
    }
   ],
   "source": [
    "print(\"sum of temperatue\")\n",
    "print(temp.sum())"
   ]
  },
  {
   "cell_type": "code",
   "execution_count": 53,
   "id": "140e071e-8f32-442b-9587-572810889e29",
   "metadata": {},
   "outputs": [
    {
     "name": "stdout",
     "output_type": "stream",
     "text": [
      "sum of temperatue\n",
      "nan\n"
     ]
    }
   ],
   "source": [
    "print(\"sum of temperatue\")\n",
    "print(temp.sum())"
   ]
  },
  {
   "cell_type": "code",
   "execution_count": 45,
   "id": "d24e4a84-fef3-466c-9186-dd4aef34ef37",
   "metadata": {},
   "outputs": [
    {
     "name": "stdout",
     "output_type": "stream",
     "text": [
      "nan\n"
     ]
    }
   ],
   "source": [
    "temp=array([31.5,30.5,nan,75.2])\n",
    "print(temp.max())"
   ]
  },
  {
   "cell_type": "code",
   "execution_count": 47,
   "id": "0a266f0d-48c2-4d6d-a5ef-f1b91d844b3d",
   "metadata": {},
   "outputs": [
    {
     "name": "stdout",
     "output_type": "stream",
     "text": [
      "nan\n"
     ]
    }
   ],
   "source": [
    "temp=array([31.5,30.5,nan,75.2])\n",
    "print(temp.min())"
   ]
  },
  {
   "cell_type": "code",
   "execution_count": null,
   "id": "6e4fc4bc-6838-4888-a05b-eea64434ca8f",
   "metadata": {},
   "outputs": [],
   "source": []
  }
 ],
 "metadata": {
  "kernelspec": {
   "display_name": "Python 3 (ipykernel)",
   "language": "python",
   "name": "python3"
  },
  "language_info": {
   "codemirror_mode": {
    "name": "ipython",
    "version": 3
   },
   "file_extension": ".py",
   "mimetype": "text/x-python",
   "name": "python",
   "nbconvert_exporter": "python",
   "pygments_lexer": "ipython3",
   "version": "3.12.4"
  }
 },
 "nbformat": 4,
 "nbformat_minor": 5
}
